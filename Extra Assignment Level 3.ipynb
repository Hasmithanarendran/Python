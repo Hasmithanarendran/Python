{
 "cells": [
  {
   "cell_type": "code",
   "execution_count": 1,
   "id": "284b9f19-1ee5-483c-89a2-a49367e61a5a",
   "metadata": {},
   "outputs": [
    {
     "name": "stdin",
     "output_type": "stream",
     "text": [
      "value: 10\n"
     ]
    },
    {
     "name": "stdout",
     "output_type": "stream",
     "text": [
      "Correct\n"
     ]
    }
   ],
   "source": [
    "i = int(input(\"value:\"))\n",
    "if(i==10):\n",
    "    print(\"Correct\")\n",
    "else:\n",
    "    print(\"wrong\")"
   ]
  },
  {
   "cell_type": "code",
   "execution_count": 5,
   "id": "85ed2123-53b8-472f-b22f-155eb7f98807",
   "metadata": {},
   "outputs": [
    {
     "name": "stdin",
     "output_type": "stream",
     "text": [
      "Enter the password: HOPE@123\n"
     ]
    },
    {
     "name": "stdout",
     "output_type": "stream",
     "text": [
      "Your password is correct\n"
     ]
    }
   ],
   "source": [
    "password = input(\"Enter the password:\")\n",
    "if (password == \"HOPE@123\"):\n",
    "    print(\"Your password is correct\")\n",
    "else:\n",
    "    print(\"wrong\")"
   ]
  },
  {
   "cell_type": "code",
   "execution_count": 6,
   "id": "1f3615c3-7a55-49a8-9f90-eb8787f44dbf",
   "metadata": {},
   "outputs": [
    {
     "name": "stdin",
     "output_type": "stream",
     "text": [
      "age: 20\n"
     ]
    },
    {
     "name": "stdout",
     "output_type": "stream",
     "text": [
      "adult\n"
     ]
    }
   ],
   "source": [
    "age = int(input(\"age:\"))\n",
    "if(age < 18):\n",
    "    print(\"children\")\n",
    "elif (age <25):\n",
    "    print(\"adult\")\n",
    "elif (age<35):\n",
    "    print(\"citizen\")\n",
    "else:\n",
    "    print(\"senior citizen\")"
   ]
  },
  {
   "cell_type": "code",
   "execution_count": 7,
   "id": "74f96307-eeb2-4877-b333-236ff16c89f2",
   "metadata": {},
   "outputs": [
    {
     "name": "stdin",
     "output_type": "stream",
     "text": [
      "Enter any number: 1\n"
     ]
    },
    {
     "name": "stdout",
     "output_type": "stream",
     "text": [
      "No is positive\n"
     ]
    }
   ],
   "source": [
    "num = int(input(\"Enter any number:\"))\n",
    "if(num < 0):\n",
    "    print(\"negative\")\n",
    "else:\n",
    "    print(\"No is positive\")"
   ]
  },
  {
   "cell_type": "code",
   "execution_count": 8,
   "id": "ffa6af23-99ac-4c11-8313-b62122e8908a",
   "metadata": {},
   "outputs": [
    {
     "name": "stdin",
     "output_type": "stream",
     "text": [
      "Enter a number to check: 22\n"
     ]
    },
    {
     "name": "stdout",
     "output_type": "stream",
     "text": [
      "No is not divisible by 5\n"
     ]
    }
   ],
   "source": [
    "num = int(input(\"Enter a number to check:\"))\n",
    "if((num%5)==0):\n",
    "    print(\"divisible\")\n",
    "else:\n",
    "    print(\"No is not divisible by 5\")"
   ]
  },
  {
   "cell_type": "code",
   "execution_count": null,
   "id": "226c7f5d-44ea-4929-86c6-5fca33f97491",
   "metadata": {},
   "outputs": [],
   "source": []
  }
 ],
 "metadata": {
  "kernelspec": {
   "display_name": "Python 3 (ipykernel)",
   "language": "python",
   "name": "python3"
  },
  "language_info": {
   "codemirror_mode": {
    "name": "ipython",
    "version": 3
   },
   "file_extension": ".py",
   "mimetype": "text/x-python",
   "name": "python",
   "nbconvert_exporter": "python",
   "pygments_lexer": "ipython3",
   "version": "3.12.4"
  }
 },
 "nbformat": 4,
 "nbformat_minor": 5
}
