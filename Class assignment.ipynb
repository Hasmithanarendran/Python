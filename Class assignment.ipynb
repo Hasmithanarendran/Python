{
 "cells": [
  {
   "cell_type": "code",
   "execution_count": 1,
   "id": "a7a72e05-b574-4194-9068-6b9eb544dfdb",
   "metadata": {},
   "outputs": [],
   "source": [
    "class assignment():\n",
    "    def subfields():\n",
    "        print(\"Sub-fields in AI are:\")\n",
    "        s = ['Machine Learning','Neural Networks','Vision','Robotics','Speech Processing','Natural Language Processing']\n",
    "        for a in s:\n",
    "            print(a)\n",
    "    \n",
    "    def OddEven():\n",
    "            a = int(input(\"Enter a number:\"))\n",
    "            if (a==\"odd\"):\n",
    "                print(\"Odd number\")\n",
    "            else:\n",
    "                print(a,\"is Even number\")\n",
    "\n",
    "    def Eligible():\n",
    "        k = input(\"Your Gender:\")\n",
    "        l = int(input(\"Your Age:\"))\n",
    "        if (k == \"Male\"):\n",
    "            if (l>=21):\n",
    "                print(\"Eligible\")\n",
    "        elif (k == \"female\"):\n",
    "            if (l>=18):\n",
    "                print(\"Eligible\")\n",
    "        else:\n",
    "            print(\"Not Eligible\")\n",
    "\n",
    "    def percentage():\n",
    "        a = int(input(\"Subject1=\"))\n",
    "        b = int(input(\"Subject2=\"))\n",
    "        c = int(input(\"Subject3=\"))\n",
    "        d = int(input(\"Subject4=\"))\n",
    "        e = int(input(\"Subject5=\"))\n",
    "        Total = a+b+c+d+e\n",
    "        print(\"Total :\",Total)\n",
    "        Percentage = (Total/500)*100\n",
    "        print(\"Percentage :\",Percentage)\n",
    "\n",
    "    def triangle():\n",
    "        a = int(input(\"Height:\"))\n",
    "        b = int(input(\"Breadth:\"))\n",
    "        Areaformula = (a*b)/2\n",
    "        print (\"Area formula: (Height*Breadth)/2\")\n",
    "        print(\"Area of Triangle:\", Areaformula)\n",
    "        c = int(input(\"Height1:\"))\n",
    "        d = int(input(\"Height2:\"))\n",
    "        e = int(input(\"Breadth:\"))\n",
    "        Perimeterformula = c+d+e\n",
    "        print(\"Perimeter formula: Height1+Height+Breadth\")\n",
    "        print(\"Perimeter of Triangle:\",Perimeterformula)"
   ]
  },
  {
   "cell_type": "code",
   "execution_count": 3,
   "id": "a848586c-e59f-43d4-8be0-397da0af9d5a",
   "metadata": {},
   "outputs": [
    {
     "name": "stdout",
     "output_type": "stream",
     "text": [
      "Sub-fields in AI are:\n",
      "Machine Learning\n",
      "Neural Networks\n",
      "Vision\n",
      "Robotics\n",
      "Speech Processing\n",
      "Natural Language Processing\n"
     ]
    }
   ],
   "source": [
    "assignment.subfields()"
   ]
  },
  {
   "cell_type": "markdown",
   "id": "e8362277-3296-40d4-b16f-7e25e5c7449e",
   "metadata": {},
   "source": [
    "assignment.OddEven()"
   ]
  },
  {
   "cell_type": "code",
   "execution_count": 5,
   "id": "856524e3-33b1-474d-b0d9-859ef59e50d3",
   "metadata": {},
   "outputs": [
    {
     "name": "stdin",
     "output_type": "stream",
     "text": [
      "Enter a number: 52452\n"
     ]
    },
    {
     "name": "stdout",
     "output_type": "stream",
     "text": [
      "52452 is Even number\n"
     ]
    }
   ],
   "source": [
    "assignment.OddEven()"
   ]
  },
  {
   "cell_type": "code",
   "execution_count": 7,
   "id": "5744729e-6427-4a67-88b9-672f79a4b568",
   "metadata": {},
   "outputs": [
    {
     "name": "stdin",
     "output_type": "stream",
     "text": [
      "Your Gender: Male\n",
      "Your Age: 20\n"
     ]
    }
   ],
   "source": [
    "assignment.Eligible()"
   ]
  },
  {
   "cell_type": "code",
   "execution_count": 8,
   "id": "aee288d9-15a5-4707-9cd5-de962dd0a9e8",
   "metadata": {},
   "outputs": [
    {
     "name": "stdin",
     "output_type": "stream",
     "text": [
      "Subject1= 98\n",
      "Subject2= 87\n",
      "Subject3= 95\n",
      "Subject4= 95\n",
      "Subject5= 93\n"
     ]
    },
    {
     "name": "stdout",
     "output_type": "stream",
     "text": [
      "Total : 468\n",
      "Percentage : 93.60000000000001\n"
     ]
    }
   ],
   "source": [
    "assignment.percentage()"
   ]
  },
  {
   "cell_type": "code",
   "execution_count": 9,
   "id": "24eea310-7038-46ef-8b88-862befcd2078",
   "metadata": {},
   "outputs": [
    {
     "name": "stdin",
     "output_type": "stream",
     "text": [
      "Height: 32\n",
      "Breadth: 34\n"
     ]
    },
    {
     "name": "stdout",
     "output_type": "stream",
     "text": [
      "Area formula: (Height*Breadth)/2\n",
      "Area of Triangle: 544.0\n"
     ]
    },
    {
     "name": "stdin",
     "output_type": "stream",
     "text": [
      "Height1: 2\n",
      "Height2: 4\n",
      "Breadth: 4\n"
     ]
    },
    {
     "name": "stdout",
     "output_type": "stream",
     "text": [
      "Perimeter formula: Height1+Height+Breadth\n",
      "Perimeter of Triangle: 10\n"
     ]
    }
   ],
   "source": [
    "assignment.triangle()"
   ]
  },
  {
   "cell_type": "code",
   "execution_count": 10,
   "id": "fd014cb3-2fa0-4a00-a5f0-e2ab640b1581",
   "metadata": {},
   "outputs": [],
   "source": [
    "class SubfieldsInAI():\n",
    "    def subfields():\n",
    "        print(\"Sub-fields in AI are:\")\n",
    "        s = ['Machine Learning','Neural Networks','Vision','Robotics','Speech Processing','Natural Language Processing']\n",
    "        for a in s:\n",
    "            print(a)"
   ]
  },
  {
   "cell_type": "code",
   "execution_count": 11,
   "id": "dd0f611c-ef8b-4b8a-8a4d-e6306e71eecc",
   "metadata": {},
   "outputs": [
    {
     "name": "stdout",
     "output_type": "stream",
     "text": [
      "Sub-fields in AI are:\n",
      "Machine Learning\n",
      "Neural Networks\n",
      "Vision\n",
      "Robotics\n",
      "Speech Processing\n",
      "Natural Language Processing\n"
     ]
    }
   ],
   "source": [
    "SubfieldsInAI.subfields()"
   ]
  },
  {
   "cell_type": "code",
   "execution_count": 13,
   "id": "196f783f-45f3-4499-b035-504cfe0d164f",
   "metadata": {},
   "outputs": [],
   "source": [
    "class OddEven():\n",
    "    def OddEven():\n",
    "            a = int(input(\"Enter a number:\"))\n",
    "            if (a==\"odd\"):\n",
    "                print(\"Odd number\")\n",
    "            else:\n",
    "                print(a,\"is Even number\")"
   ]
  },
  {
   "cell_type": "code",
   "execution_count": 14,
   "id": "4cb3e026-d3d7-4993-a86e-17cbc3dcbbb0",
   "metadata": {},
   "outputs": [
    {
     "name": "stdin",
     "output_type": "stream",
     "text": [
      "Enter a number: 52452\n"
     ]
    },
    {
     "name": "stdout",
     "output_type": "stream",
     "text": [
      "52452 is Even number\n"
     ]
    }
   ],
   "source": [
    "OddEven.OddEven()\n"
   ]
  },
  {
   "cell_type": "code",
   "execution_count": 15,
   "id": "c8ccd12f-8f28-48f6-9119-301cf2d61cea",
   "metadata": {},
   "outputs": [],
   "source": [
    "class ElegibilityForMarriage():\n",
    "    def Eligible():\n",
    "        k = input(\"Your Gender:\")\n",
    "        l = int(input(\"Your Age:\"))\n",
    "        if (k == \"Male\"):\n",
    "            if (l>=21):\n",
    "                print(\"Eligible\")\n",
    "        elif (k == \"female\"):\n",
    "            if (l>=18):\n",
    "                print(\"Eligible\")\n",
    "        else:\n",
    "            print(\"Not Eligible\")"
   ]
  },
  {
   "cell_type": "code",
   "execution_count": 16,
   "id": "3379113a-2f79-4bb0-8361-568eb4de6758",
   "metadata": {},
   "outputs": [
    {
     "name": "stdin",
     "output_type": "stream",
     "text": [
      "Your Gender: Male\n",
      "Your Age: 20\n"
     ]
    }
   ],
   "source": [
    "ElegibilityForMarriage.Eligible()"
   ]
  },
  {
   "cell_type": "code",
   "execution_count": 17,
   "id": "35a0d431-233a-4099-956b-cbad745b04eb",
   "metadata": {},
   "outputs": [],
   "source": [
    "class FindPercent():\n",
    "    def percentage():\n",
    "        a = int(input(\"Subject1=\"))\n",
    "        b = int(input(\"Subject2=\"))\n",
    "        c = int(input(\"Subject3=\"))\n",
    "        d = int(input(\"Subject4=\"))\n",
    "        e = int(input(\"Subject5=\"))\n",
    "        Total = a+b+c+d+e\n",
    "        print(\"Total :\",Total)\n",
    "        Percentage = (Total/500)*100\n",
    "        print(\"Percentage :\",Percentage)"
   ]
  },
  {
   "cell_type": "code",
   "execution_count": 18,
   "id": "f485635c-9a48-4fa0-b170-770278ca0b08",
   "metadata": {},
   "outputs": [
    {
     "name": "stdin",
     "output_type": "stream",
     "text": [
      "Subject1= 98\n",
      "Subject2= 87\n",
      "Subject3= 95\n",
      "Subject4= 95\n",
      "Subject5= 93\n"
     ]
    },
    {
     "name": "stdout",
     "output_type": "stream",
     "text": [
      "Total : 468\n",
      "Percentage : 93.60000000000001\n"
     ]
    }
   ],
   "source": [
    "FindPercent.percentage()"
   ]
  },
  {
   "cell_type": "code",
   "execution_count": 19,
   "id": "dd4b7af3-1fa5-43d7-84dc-dd0453b5424f",
   "metadata": {},
   "outputs": [],
   "source": [
    "class triangle():\n",
    "    def triangle():\n",
    "        a = int(input(\"Height:\"))\n",
    "        b = int(input(\"Breadth:\"))\n",
    "        Areaformula = (a*b)/2\n",
    "        print (\"Area formula: (Height*Breadth)/2\")\n",
    "        print(\"Area of Triangle:\", Areaformula)\n",
    "        c = int(input(\"Height1:\"))\n",
    "        d = int(input(\"Height2:\"))\n",
    "        e = int(input(\"Breadth:\"))\n",
    "        Perimeterformula = c+d+e\n",
    "        print(\"Perimeter formula: Height1+Height+Breadth\")\n",
    "        print(\"Perimeter of Triangle:\",Perimeterformula)"
   ]
  },
  {
   "cell_type": "code",
   "execution_count": 20,
   "id": "3f9c6f84-14b6-4660-90e7-c4077dfbc998",
   "metadata": {},
   "outputs": [
    {
     "name": "stdin",
     "output_type": "stream",
     "text": [
      "Height: 32\n",
      "Breadth: 34\n"
     ]
    },
    {
     "name": "stdout",
     "output_type": "stream",
     "text": [
      "Area formula: (Height*Breadth)/2\n",
      "Area of Triangle: 544.0\n"
     ]
    },
    {
     "name": "stdin",
     "output_type": "stream",
     "text": [
      "Height1: 2\n",
      "Height2: 4\n",
      "Breadth: 4\n"
     ]
    },
    {
     "name": "stdout",
     "output_type": "stream",
     "text": [
      "Perimeter formula: Height1+Height+Breadth\n",
      "Perimeter of Triangle: 10\n"
     ]
    }
   ],
   "source": [
    "triangle.triangle()"
   ]
  },
  {
   "cell_type": "code",
   "execution_count": null,
   "id": "f9bf87e3-855e-463c-8296-6a3f10bcc424",
   "metadata": {},
   "outputs": [],
   "source": []
  }
 ],
 "metadata": {
  "kernelspec": {
   "display_name": "Python 3 (ipykernel)",
   "language": "python",
   "name": "python3"
  },
  "language_info": {
   "codemirror_mode": {
    "name": "ipython",
    "version": 3
   },
   "file_extension": ".py",
   "mimetype": "text/x-python",
   "name": "python",
   "nbconvert_exporter": "python",
   "pygments_lexer": "ipython3",
   "version": "3.12.4"
  }
 },
 "nbformat": 4,
 "nbformat_minor": 5
}
