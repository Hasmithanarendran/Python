{
 "cells": [
  {
   "cell_type": "code",
   "execution_count": 1,
   "id": "e3eb6507-f9c3-4a34-a191-73a4736cbb27",
   "metadata": {},
   "outputs": [
    {
     "name": "stdout",
     "output_type": "stream",
     "text": [
      "HOPE AI\n"
     ]
    }
   ],
   "source": [
    "print(\"HOPE AI\")"
   ]
  },
  {
   "cell_type": "code",
   "execution_count": 2,
   "id": "9d1e3193-b0bf-43bd-95e8-4b63f9286e85",
   "metadata": {},
   "outputs": [
    {
     "name": "stdin",
     "output_type": "stream",
     "text": [
      "Enter your institute name? HOPE AI\n"
     ]
    }
   ],
   "source": [
    "name= input(\"Enter your institute name?\")\n"
   ]
  },
  {
   "cell_type": "code",
   "execution_count": 3,
   "id": "55e6cf6c-52cd-49d1-841e-0c3dee7f3871",
   "metadata": {},
   "outputs": [
    {
     "name": "stdin",
     "output_type": "stream",
     "text": [
      "Enter your name: Raj\n",
      "Enter your age: 15\n",
      "Enter your school name: Guru school\n",
      "Enter your degree: B.E. CSE\n"
     ]
    }
   ],
   "source": [
    "name = input(\"Enter your name:\")\n",
    "age= int(input(\"Enter your age:\"))\n",
    "school = input(\"Enter your school name:\")\n",
    "degree = input(\"Enter your degree:\")"
   ]
  },
  {
   "cell_type": "code",
   "execution_count": 5,
   "id": "b21da852-79e4-486f-8725-a5dcb84fa8aa",
   "metadata": {},
   "outputs": [
    {
     "name": "stdout",
     "output_type": "stream",
     "text": [
      "a= 43\n",
      "b= 34\n",
      "add= 77\n"
     ]
    }
   ],
   "source": [
    "a= 43\n",
    "b= 34\n",
    "add = a+b\n",
    "print (\"a=\",a)\n",
    "print (\"b=\",b)\n",
    "print (\"add=\",add)"
   ]
  },
  {
   "cell_type": "code",
   "execution_count": 6,
   "id": "826ff17e-43e3-4257-a0c8-2637a91afa85",
   "metadata": {},
   "outputs": [
    {
     "name": "stdout",
     "output_type": "stream",
     "text": [
      "a= 43\n",
      "b= 34\n",
      "Sub= 9\n"
     ]
    }
   ],
   "source": [
    "a= 43\n",
    "b= 34\n",
    "sub = a-b\n",
    "print (\"a=\",a)\n",
    "print (\"b=\",b)\n",
    "print (\"Sub=\",sub)"
   ]
  },
  {
   "cell_type": "code",
   "execution_count": 7,
   "id": "f7de8c6b-4316-4a20-ac39-8d71ce764025",
   "metadata": {},
   "outputs": [
    {
     "name": "stdout",
     "output_type": "stream",
     "text": [
      "a= 63\n",
      "b= 97\n",
      "Mul= 6111\n"
     ]
    }
   ],
   "source": [
    "a= 63\n",
    "b= 97\n",
    "mul = a*b\n",
    "print (\"a=\",a)\n",
    "print (\"b=\",b)\n",
    "print (\"Mul=\",mul)"
   ]
  },
  {
   "cell_type": "code",
   "execution_count": 8,
   "id": "5c93a1b0-58ba-4b72-83e8-7c55da4e1c26",
   "metadata": {},
   "outputs": [
    {
     "name": "stdout",
     "output_type": "stream",
     "text": [
      "a= 76\n",
      "b= 31\n",
      "Float Div= 2.4516129032258065\n"
     ]
    }
   ],
   "source": [
    "a= 76\n",
    "b= 31\n",
    "div = a/b\n",
    "print (\"a=\",a)\n",
    "print (\"b=\",b)\n",
    "print (\"Float Div=\",div)"
   ]
  },
  {
   "cell_type": "code",
   "execution_count": 9,
   "id": "d1194151-8ac5-44c7-849d-815a8d6d44d2",
   "metadata": {},
   "outputs": [
    {
     "name": "stdout",
     "output_type": "stream",
     "text": [
      "a= 76\n",
      "b= 31\n",
      "Floor Div= 2\n"
     ]
    }
   ],
   "source": [
    "a= 76\n",
    "b= 31\n",
    "div = a//b\n",
    "print (\"a=\",a)\n",
    "print (\"b=\",b)\n",
    "print (\"Floor Div=\",div)"
   ]
  },
  {
   "cell_type": "code",
   "execution_count": 10,
   "id": "1a0e97fe-6c32-49dd-9a4d-a9c79c3d350a",
   "metadata": {},
   "outputs": [
    {
     "name": "stdout",
     "output_type": "stream",
     "text": [
      "a= 76\n",
      "b= 31\n",
      "Modulo= 14\n"
     ]
    }
   ],
   "source": [
    "a= 76\n",
    "b= 31\n",
    "mod = a%b\n",
    "print (\"a=\",a)\n",
    "print (\"b=\",b)\n",
    "print (\"Modulo=\",mod)"
   ]
  },
  {
   "cell_type": "code",
   "execution_count": 12,
   "id": "3dd5c175-7db4-49fc-8914-7e4ebbe92d03",
   "metadata": {},
   "outputs": [
    {
     "name": "stdout",
     "output_type": "stream",
     "text": [
      "a= 4\n",
      "b= 4\n",
      "Power= 256\n"
     ]
    }
   ],
   "source": [
    "a= 4\n",
    "b= 4\n",
    "power = a**b\n",
    "print (\"a=\",a)\n",
    "print (\"b=\",b)\n",
    "print (\"Power=\",power)"
   ]
  },
  {
   "cell_type": "code",
   "execution_count": null,
   "id": "23437505-6819-4a44-9e95-2ed79a359f4d",
   "metadata": {},
   "outputs": [],
   "source": []
  }
 ],
 "metadata": {
  "kernelspec": {
   "display_name": "Python 3 (ipykernel)",
   "language": "python",
   "name": "python3"
  },
  "language_info": {
   "codemirror_mode": {
    "name": "ipython",
    "version": 3
   },
   "file_extension": ".py",
   "mimetype": "text/x-python",
   "name": "python",
   "nbconvert_exporter": "python",
   "pygments_lexer": "ipython3",
   "version": "3.12.4"
  }
 },
 "nbformat": 4,
 "nbformat_minor": 5
}
