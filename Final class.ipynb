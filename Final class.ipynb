{
 "cells": [
  {
   "cell_type": "code",
   "execution_count": 1,
   "id": "30552568-6c38-4abe-b85e-f0dbbf1f346b",
   "metadata": {},
   "outputs": [],
   "source": [
    "from assignment import assignment"
   ]
  },
  {
   "cell_type": "code",
   "execution_count": 2,
   "id": "1b33571b-2b40-4372-8f31-7f8d2790dec9",
   "metadata": {},
   "outputs": [
    {
     "name": "stdout",
     "output_type": "stream",
     "text": [
      "Sub-fields in AI are:\n",
      "Machine Learning\n",
      "Neural Networks\n",
      "Vision\n",
      "Robotics\n",
      "Speech Processing\n",
      "Natural Language Processing\n"
     ]
    }
   ],
   "source": [
    "assignment.subfields()"
   ]
  },
  {
   "cell_type": "code",
   "execution_count": 3,
   "id": "a3e0c430-f5a8-430b-b3de-04caf92a456e",
   "metadata": {},
   "outputs": [
    {
     "name": "stdin",
     "output_type": "stream",
     "text": [
      "Enter a number: 52452\n"
     ]
    },
    {
     "name": "stdout",
     "output_type": "stream",
     "text": [
      "52452 is Even number\n"
     ]
    }
   ],
   "source": [
    "assignment.OddEven()"
   ]
  },
  {
   "cell_type": "code",
   "execution_count": 1,
   "id": "fabcbd9a-e90c-4ae8-9097-9e2a38617383",
   "metadata": {},
   "outputs": [
    {
     "ename": "NameError",
     "evalue": "name 'assignment' is not defined",
     "output_type": "error",
     "traceback": [
      "\u001b[1;31m---------------------------------------------------------------------------\u001b[0m",
      "\u001b[1;31mNameError\u001b[0m                                 Traceback (most recent call last)",
      "Cell \u001b[1;32mIn[1], line 1\u001b[0m\n\u001b[1;32m----> 1\u001b[0m assignment\u001b[38;5;241m.\u001b[39mEligible()\n",
      "\u001b[1;31mNameError\u001b[0m: name 'assignment' is not defined"
     ]
    }
   ],
   "source": [
    "assignment.Eligible()"
   ]
  },
  {
   "cell_type": "code",
   "execution_count": 2,
   "id": "08c89bc5-3cdb-48dd-8760-68ff72b32e0c",
   "metadata": {},
   "outputs": [],
   "source": [
    "from assignment import assignment"
   ]
  },
  {
   "cell_type": "code",
   "execution_count": 3,
   "id": "3a38d9f3-1ebc-4467-a896-222307714beb",
   "metadata": {},
   "outputs": [
    {
     "name": "stdin",
     "output_type": "stream",
     "text": [
      "Your Gender: Male\n",
      "Your Age: 20\n"
     ]
    }
   ],
   "source": [
    "assignment.Eligible()"
   ]
  },
  {
   "cell_type": "code",
   "execution_count": 4,
   "id": "46836df3-a837-490c-beae-90e6b29e2d25",
   "metadata": {},
   "outputs": [
    {
     "name": "stdin",
     "output_type": "stream",
     "text": [
      "Subject1= 98\n",
      "Subject2= 87\n",
      "Subject3= 95\n",
      "Subject4= 95\n",
      "Subject5= 93\n"
     ]
    },
    {
     "name": "stdout",
     "output_type": "stream",
     "text": [
      "Total : 468\n",
      "Percentage : 93.60000000000001\n"
     ]
    }
   ],
   "source": [
    "assignment.percentage()"
   ]
  },
  {
   "cell_type": "code",
   "execution_count": 5,
   "id": "aab38d3e-3528-424a-85aa-80dd6699dfe3",
   "metadata": {},
   "outputs": [
    {
     "name": "stdin",
     "output_type": "stream",
     "text": [
      "Height: 32\n",
      "Breadth: 34\n"
     ]
    },
    {
     "name": "stdout",
     "output_type": "stream",
     "text": [
      "Area formula: (Height*Breadth)/2\n",
      "Area of Triangle: 544.0\n"
     ]
    },
    {
     "name": "stdin",
     "output_type": "stream",
     "text": [
      "Height1: 2\n",
      "Height2: 4\n",
      "Breadth: 4\n"
     ]
    },
    {
     "name": "stdout",
     "output_type": "stream",
     "text": [
      "Perimeter formula: Height1+Height+Breadth\n",
      "Perimeter of Triangle: 10\n"
     ]
    }
   ],
   "source": [
    "assignment.triangle()"
   ]
  },
  {
   "cell_type": "code",
   "execution_count": null,
   "id": "8ce86b47-b7fa-410b-895a-36e70bf98b50",
   "metadata": {},
   "outputs": [],
   "source": []
  }
 ],
 "metadata": {
  "kernelspec": {
   "display_name": "Python 3 (ipykernel)",
   "language": "python",
   "name": "python3"
  },
  "language_info": {
   "codemirror_mode": {
    "name": "ipython",
    "version": 3
   },
   "file_extension": ".py",
   "mimetype": "text/x-python",
   "name": "python",
   "nbconvert_exporter": "python",
   "pygments_lexer": "ipython3",
   "version": "3.12.4"
  }
 },
 "nbformat": 4,
 "nbformat_minor": 5
}
