{
 "cells": [
  {
   "cell_type": "code",
   "execution_count": 3,
   "id": "6b0e877b-7f3e-4e2f-a799-8bb8dda4ddd0",
   "metadata": {},
   "outputs": [],
   "source": [
    "def subfields():\n",
    "    print(\"Sub-fields in AI are:\")\n",
    "    s = ['Machine Learning','Neural Networks','Vision','Robotics','Speech Processing','Natural Language Processing']\n",
    "    for a in s:\n",
    "        print(a)"
   ]
  },
  {
   "cell_type": "code",
   "execution_count": 4,
   "id": "951c8178-1b73-49f1-8ede-4bbcaf94902b",
   "metadata": {},
   "outputs": [
    {
     "name": "stdout",
     "output_type": "stream",
     "text": [
      "Sub-fields in AI are:\n",
      "Machine Learning\n",
      "Neural Networks\n",
      "Vision\n",
      "Robotics\n",
      "Speech Processing\n",
      "Natural Language Processing\n"
     ]
    }
   ],
   "source": [
    "subfields()"
   ]
  },
  {
   "cell_type": "code",
   "execution_count": 8,
   "id": "6e2422f7-4295-4ebe-ae55-a203965823c8",
   "metadata": {},
   "outputs": [],
   "source": [
    "def OddEven():\n",
    "    a = int(input(\"Enter a number:\"))\n",
    "    if (a==\"odd\"):\n",
    "        print(\"Odd number\")\n",
    "    else:\n",
    "        print(a,\"is Even number\")"
   ]
  },
  {
   "cell_type": "code",
   "execution_count": 9,
   "id": "9c1f7572-1914-40f1-b0f0-bc202a14c1cf",
   "metadata": {},
   "outputs": [
    {
     "name": "stdin",
     "output_type": "stream",
     "text": [
      "Enter a number: 52452\n"
     ]
    },
    {
     "name": "stdout",
     "output_type": "stream",
     "text": [
      "52452 is Even number\n"
     ]
    }
   ],
   "source": [
    "OddEven()"
   ]
  },
  {
   "cell_type": "code",
   "execution_count": 26,
   "id": "c1279ee5-a6d3-42c3-b31c-ed7edb7268c5",
   "metadata": {},
   "outputs": [],
   "source": [
    "def Eligible():\n",
    "    k = input(\"Your Gender:\")\n",
    "    l = int(input(\"Your Age:\"))\n",
    "    if (k == \"Male\"):\n",
    "        if (l>=21):\n",
    "            print(\"Eligible\")\n",
    "    elif (k == \"female\"):\n",
    "        if (l>=18):\n",
    "            print(\"Eligible\")\n",
    "    else:\n",
    "        print(\"Not Eligible\")"
   ]
  },
  {
   "cell_type": "code",
   "execution_count": 27,
   "id": "dc1422af-553d-45ec-abc8-6756253a7eba",
   "metadata": {},
   "outputs": [
    {
     "name": "stdin",
     "output_type": "stream",
     "text": [
      "Your Gender: Male\n",
      "Your Age: 20\n"
     ]
    }
   ],
   "source": [
    "Eligible()"
   ]
  },
  {
   "cell_type": "code",
   "execution_count": 20,
   "id": "b74b09ff-356d-4538-8613-792cb7d7dd61",
   "metadata": {},
   "outputs": [],
   "source": [
    "def percentage():\n",
    "    a = int(input(\"Subject1=\"))\n",
    "    b = int(input(\"Subject2=\"))\n",
    "    c = int(input(\"Subject3=\"))\n",
    "    d = int(input(\"Subject4=\"))\n",
    "    e = int(input(\"Subject5=\"))\n",
    "    Total = a+b+c+d+e\n",
    "    print(\"Total :\",Total)\n",
    "    Percentage = (Total/500)*100\n",
    "    print(\"Percentage :\",Percentage)"
   ]
  },
  {
   "cell_type": "code",
   "execution_count": 21,
   "id": "d49bbb71-f430-4aad-ae6a-668495396dce",
   "metadata": {},
   "outputs": [
    {
     "name": "stdin",
     "output_type": "stream",
     "text": [
      "Subject1= 98\n",
      "Subject2= 87\n",
      "Subject3= 95\n",
      "Subject4= 95\n",
      "Subject5= 93\n"
     ]
    },
    {
     "name": "stdout",
     "output_type": "stream",
     "text": [
      "Total : 468\n",
      "Percentage : 93.60000000000001\n"
     ]
    }
   ],
   "source": [
    "percentage()"
   ]
  },
  {
   "cell_type": "code",
   "execution_count": 22,
   "id": "8d932031-15a9-44f9-a488-07ecdf7fd60d",
   "metadata": {},
   "outputs": [],
   "source": [
    "def triangle():\n",
    "    a = int(input(\"Height:\"))\n",
    "    b = int(input(\"Breadth:\"))\n",
    "    Areaformula = (a*b)/2\n",
    "    print (\"Area formula: (Height*Breadth)/2\")\n",
    "    print(\"Area of Triangle:\", Areaformula)\n",
    "    c = int(input(\"Height1:\"))\n",
    "    d = int(input(\"Height2:\"))\n",
    "    e = int(input(\"Breadth:\"))\n",
    "    Perimeterformula = c+d+e\n",
    "    print(\"Perimeter formula: Height1+Height+Breadth\")\n",
    "    print(\"Perimeter of Triangle:\",Perimeterformula)"
   ]
  },
  {
   "cell_type": "code",
   "execution_count": 23,
   "id": "555e3a60-9f07-444e-a8fc-ba1ab59c3ed8",
   "metadata": {},
   "outputs": [
    {
     "name": "stdin",
     "output_type": "stream",
     "text": [
      "Height: 32\n",
      "Breadth: 34\n"
     ]
    },
    {
     "name": "stdout",
     "output_type": "stream",
     "text": [
      "Area formula: (Height*Breadth)/2\n",
      "Area of Triangle: 544.0\n"
     ]
    },
    {
     "name": "stdin",
     "output_type": "stream",
     "text": [
      "Height1: 2\n",
      "Height2: 4\n",
      "Breadth: 4\n"
     ]
    },
    {
     "name": "stdout",
     "output_type": "stream",
     "text": [
      "Perimeter formula: Height1+Height+Breadth\n",
      "Perimeter of Triangle: 10\n"
     ]
    }
   ],
   "source": [
    "triangle()"
   ]
  },
  {
   "cell_type": "code",
   "execution_count": null,
   "id": "501e1a0c-54fb-4c49-ae29-83b9a9ee5af9",
   "metadata": {},
   "outputs": [],
   "source": []
  }
 ],
 "metadata": {
  "kernelspec": {
   "display_name": "Python 3 (ipykernel)",
   "language": "python",
   "name": "python3"
  },
  "language_info": {
   "codemirror_mode": {
    "name": "ipython",
    "version": 3
   },
   "file_extension": ".py",
   "mimetype": "text/x-python",
   "name": "python",
   "nbconvert_exporter": "python",
   "pygments_lexer": "ipython3",
   "version": "3.12.4"
  }
 },
 "nbformat": 4,
 "nbformat_minor": 5
}
